{
 "cells": [
  {
   "cell_type": "code",
   "execution_count": 25,
   "id": "556c71b6",
   "metadata": {},
   "outputs": [],
   "source": [
    "import matplotlib.pyplot as plt\n",
    "import numpy as np\n",
    "import pandas as pd\n",
    "import seaborn as sns\n",
    "from sklearn.model_selection import train_test_split, learning_curve\n",
    "from sklearn.metrics import r2_score\n",
    "from sklearn.ensemble import RandomForestRegressor, AdaBoostRegressor, VotingClassifier, RandomForestClassifier, AdaBoostClassifier\n",
    "from sklearn.tree import DecisionTreeClassifier\n",
    "from sklearn.neighbors import KNeighborsClassifier\n",
    "from xgboost import XGBRegressor, XGBClassifier\n",
    "from sklearn.metrics import accuracy_score"
   ]
  },
  {
   "cell_type": "markdown",
   "id": "6e4b2c81",
   "metadata": {},
   "source": [
    "# Q1"
   ]
  },
  {
   "cell_type": "code",
   "execution_count": 2,
   "id": "2cd35d79",
   "metadata": {},
   "outputs": [],
   "source": [
    "df = pd.read_csv(\"../data/05/heart.csv\")"
   ]
  },
  {
   "cell_type": "code",
   "execution_count": 3,
   "id": "30d8a322",
   "metadata": {},
   "outputs": [
    {
     "data": {
      "text/html": [
       "<div>\n",
       "<style scoped>\n",
       "    .dataframe tbody tr th:only-of-type {\n",
       "        vertical-align: middle;\n",
       "    }\n",
       "\n",
       "    .dataframe tbody tr th {\n",
       "        vertical-align: top;\n",
       "    }\n",
       "\n",
       "    .dataframe thead th {\n",
       "        text-align: right;\n",
       "    }\n",
       "</style>\n",
       "<table border=\"1\" class=\"dataframe\">\n",
       "  <thead>\n",
       "    <tr style=\"text-align: right;\">\n",
       "      <th></th>\n",
       "      <th>age</th>\n",
       "      <th>sex</th>\n",
       "      <th>cp</th>\n",
       "      <th>trestbps</th>\n",
       "      <th>chol</th>\n",
       "      <th>fbs</th>\n",
       "      <th>restecg</th>\n",
       "      <th>thalach</th>\n",
       "      <th>exang</th>\n",
       "      <th>oldpeak</th>\n",
       "      <th>slope</th>\n",
       "      <th>ca</th>\n",
       "      <th>thal</th>\n",
       "      <th>target</th>\n",
       "    </tr>\n",
       "  </thead>\n",
       "  <tbody>\n",
       "    <tr>\n",
       "      <th>0</th>\n",
       "      <td>52</td>\n",
       "      <td>1</td>\n",
       "      <td>0</td>\n",
       "      <td>125</td>\n",
       "      <td>212</td>\n",
       "      <td>0</td>\n",
       "      <td>1</td>\n",
       "      <td>168</td>\n",
       "      <td>0</td>\n",
       "      <td>1.0</td>\n",
       "      <td>2</td>\n",
       "      <td>2</td>\n",
       "      <td>3</td>\n",
       "      <td>0</td>\n",
       "    </tr>\n",
       "    <tr>\n",
       "      <th>1</th>\n",
       "      <td>53</td>\n",
       "      <td>1</td>\n",
       "      <td>0</td>\n",
       "      <td>140</td>\n",
       "      <td>203</td>\n",
       "      <td>1</td>\n",
       "      <td>0</td>\n",
       "      <td>155</td>\n",
       "      <td>1</td>\n",
       "      <td>3.1</td>\n",
       "      <td>0</td>\n",
       "      <td>0</td>\n",
       "      <td>3</td>\n",
       "      <td>0</td>\n",
       "    </tr>\n",
       "    <tr>\n",
       "      <th>2</th>\n",
       "      <td>70</td>\n",
       "      <td>1</td>\n",
       "      <td>0</td>\n",
       "      <td>145</td>\n",
       "      <td>174</td>\n",
       "      <td>0</td>\n",
       "      <td>1</td>\n",
       "      <td>125</td>\n",
       "      <td>1</td>\n",
       "      <td>2.6</td>\n",
       "      <td>0</td>\n",
       "      <td>0</td>\n",
       "      <td>3</td>\n",
       "      <td>0</td>\n",
       "    </tr>\n",
       "    <tr>\n",
       "      <th>3</th>\n",
       "      <td>61</td>\n",
       "      <td>1</td>\n",
       "      <td>0</td>\n",
       "      <td>148</td>\n",
       "      <td>203</td>\n",
       "      <td>0</td>\n",
       "      <td>1</td>\n",
       "      <td>161</td>\n",
       "      <td>0</td>\n",
       "      <td>0.0</td>\n",
       "      <td>2</td>\n",
       "      <td>1</td>\n",
       "      <td>3</td>\n",
       "      <td>0</td>\n",
       "    </tr>\n",
       "    <tr>\n",
       "      <th>4</th>\n",
       "      <td>62</td>\n",
       "      <td>0</td>\n",
       "      <td>0</td>\n",
       "      <td>138</td>\n",
       "      <td>294</td>\n",
       "      <td>1</td>\n",
       "      <td>1</td>\n",
       "      <td>106</td>\n",
       "      <td>0</td>\n",
       "      <td>1.9</td>\n",
       "      <td>1</td>\n",
       "      <td>3</td>\n",
       "      <td>2</td>\n",
       "      <td>0</td>\n",
       "    </tr>\n",
       "  </tbody>\n",
       "</table>\n",
       "</div>"
      ],
      "text/plain": [
       "   age  sex  cp  trestbps  chol  fbs  restecg  thalach  exang  oldpeak  slope  \\\n",
       "0   52    1   0       125   212    0        1      168      0      1.0      2   \n",
       "1   53    1   0       140   203    1        0      155      1      3.1      0   \n",
       "2   70    1   0       145   174    0        1      125      1      2.6      0   \n",
       "3   61    1   0       148   203    0        1      161      0      0.0      2   \n",
       "4   62    0   0       138   294    1        1      106      0      1.9      1   \n",
       "\n",
       "   ca  thal  target  \n",
       "0   2     3       0  \n",
       "1   0     3       0  \n",
       "2   0     3       0  \n",
       "3   1     3       0  \n",
       "4   3     2       0  "
      ]
     },
     "execution_count": 3,
     "metadata": {},
     "output_type": "execute_result"
    }
   ],
   "source": [
    "df.head()"
   ]
  },
  {
   "cell_type": "code",
   "execution_count": 4,
   "id": "667d2565",
   "metadata": {},
   "outputs": [
    {
     "name": "stdout",
     "output_type": "stream",
     "text": [
      "<class 'pandas.core.frame.DataFrame'>\n",
      "RangeIndex: 1025 entries, 0 to 1024\n",
      "Data columns (total 14 columns):\n",
      " #   Column    Non-Null Count  Dtype  \n",
      "---  ------    --------------  -----  \n",
      " 0   age       1025 non-null   int64  \n",
      " 1   sex       1025 non-null   int64  \n",
      " 2   cp        1025 non-null   int64  \n",
      " 3   trestbps  1025 non-null   int64  \n",
      " 4   chol      1025 non-null   int64  \n",
      " 5   fbs       1025 non-null   int64  \n",
      " 6   restecg   1025 non-null   int64  \n",
      " 7   thalach   1025 non-null   int64  \n",
      " 8   exang     1025 non-null   int64  \n",
      " 9   oldpeak   1025 non-null   float64\n",
      " 10  slope     1025 non-null   int64  \n",
      " 11  ca        1025 non-null   int64  \n",
      " 12  thal      1025 non-null   int64  \n",
      " 13  target    1025 non-null   int64  \n",
      "dtypes: float64(1), int64(13)\n",
      "memory usage: 112.2 KB\n"
     ]
    }
   ],
   "source": [
    "df.info()"
   ]
  },
  {
   "cell_type": "code",
   "execution_count": 5,
   "id": "7d162764",
   "metadata": {},
   "outputs": [
    {
     "data": {
      "text/plain": [
       "target\n",
       "1    526\n",
       "0    499\n",
       "Name: count, dtype: int64"
      ]
     },
     "execution_count": 5,
     "metadata": {},
     "output_type": "execute_result"
    }
   ],
   "source": [
    "df[\"target\"].value_counts()"
   ]
  },
  {
   "cell_type": "markdown",
   "id": "a83118ae",
   "metadata": {},
   "source": [
    "The target is balanced"
   ]
  },
  {
   "cell_type": "code",
   "execution_count": 6,
   "id": "204c51a6",
   "metadata": {},
   "outputs": [
    {
     "data": {
      "text/plain": [
       "0"
      ]
     },
     "execution_count": 6,
     "metadata": {},
     "output_type": "execute_result"
    }
   ],
   "source": [
    "sum(df.select_dtypes(include=\"object\").columns)"
   ]
  },
  {
   "cell_type": "markdown",
   "id": "bc72e910",
   "metadata": {},
   "source": [
    "No categorical columns"
   ]
  },
  {
   "cell_type": "code",
   "execution_count": 7,
   "id": "60707181",
   "metadata": {},
   "outputs": [
    {
     "data": {
      "text/plain": [
       "np.int64(723)"
      ]
     },
     "execution_count": 7,
     "metadata": {},
     "output_type": "execute_result"
    }
   ],
   "source": [
    "df.duplicated().sum()"
   ]
  },
  {
   "cell_type": "markdown",
   "id": "f94d717e",
   "metadata": {},
   "source": [
    "Cannot drop duplicates, too many duplicate rows"
   ]
  },
  {
   "cell_type": "markdown",
   "id": "ced23acb",
   "metadata": {},
   "source": [
    "Feature scaling not required, because tree models dont need scaling"
   ]
  },
  {
   "cell_type": "code",
   "execution_count": 8,
   "id": "e4a0ec9e",
   "metadata": {},
   "outputs": [],
   "source": [
    "X = df.drop(\"target\", axis=1)\n",
    "y = df[\"target\"]\n",
    "\n",
    "X_train_full, X_test, y_train_full, y_test = train_test_split(X, y, test_size=0.2, random_state=42)\n",
    "\n",
    "X_train, X_valid, y_train, y_valid = train_test_split(X_train_full, y_train_full, test_size=0.3, random_state=42)"
   ]
  },
  {
   "cell_type": "markdown",
   "id": "9c87abe0",
   "metadata": {},
   "source": [
    "We use validation set for tuning of the model. We might do feature selection and then see whether the performance improves"
   ]
  },
  {
   "cell_type": "code",
   "execution_count": 9,
   "id": "e5d49871",
   "metadata": {},
   "outputs": [
    {
     "name": "stdout",
     "output_type": "stream",
     "text": [
      "Train R²: 0.981\n",
      "Validation R²: 0.922\n",
      "Test R²: 0.877\n"
     ]
    }
   ],
   "source": [
    "rfg = RandomForestRegressor(random_state=42)\n",
    "rfg.fit(X_train, y_train)\n",
    "\n",
    "train_score = rfg.score(X_train, y_train)  \n",
    "valid_score = rfg.score(X_valid, y_valid) \n",
    "\n",
    "y_pred = rfg.predict(X_test)\n",
    "test_score = r2_score(y_test, y_pred)\n",
    "\n",
    "print(f\"Train R²: {train_score:.3f}\")\n",
    "print(f\"Validation R²: {valid_score:.3f}\")\n",
    "print(f\"Test R²: {test_score:.3f}\")"
   ]
  },
  {
   "cell_type": "code",
   "execution_count": 10,
   "id": "3d98e90c",
   "metadata": {},
   "outputs": [
    {
     "name": "stdout",
     "output_type": "stream",
     "text": [
      "Train R²: 0.511\n",
      "Validation R²: 0.501\n",
      "Test R²: 0.433\n"
     ]
    }
   ],
   "source": [
    "adg = AdaBoostRegressor(random_state=42)\n",
    "adg.fit(X_train, y_train)\n",
    "\n",
    "train_score = adg.score(X_train, y_train)  \n",
    "valid_score = adg.score(X_valid, y_valid) \n",
    "\n",
    "y_pred = adg.predict(X_test)\n",
    "test_score = r2_score(y_test, y_pred)\n",
    "\n",
    "print(f\"Train R²: {train_score:.3f}\")\n",
    "print(f\"Validation R²: {valid_score:.3f}\")\n",
    "print(f\"Test R²: {test_score:.3f}\")"
   ]
  },
  {
   "cell_type": "code",
   "execution_count": 11,
   "id": "032b8794",
   "metadata": {},
   "outputs": [
    {
     "name": "stdout",
     "output_type": "stream",
     "text": [
      "Train R²: 1.000\n",
      "Validation R²: 0.928\n",
      "Test R²: 0.875\n"
     ]
    }
   ],
   "source": [
    "xgbr = XGBRegressor(random_state=42)\n",
    "xgbr.fit(X_train, y_train)\n",
    "\n",
    "train_score = xgbr.score(X_train, y_train)  \n",
    "valid_score = xgbr.score(X_valid, y_valid) \n",
    "\n",
    "y_pred = xgbr.predict(X_test)\n",
    "test_score = r2_score(y_test, y_pred)\n",
    "\n",
    "print(f\"Train R²: {train_score:.3f}\")\n",
    "print(f\"Validation R²: {valid_score:.3f}\")\n",
    "print(f\"Test R²: {test_score:.3f}\")"
   ]
  },
  {
   "cell_type": "markdown",
   "id": "9c5d831c",
   "metadata": {},
   "source": [
    "# Q2"
   ]
  },
  {
   "cell_type": "code",
   "execution_count": 13,
   "id": "10a540b0",
   "metadata": {},
   "outputs": [],
   "source": [
    "X = df[[\"restecg\", \"oldpeak\"]]\n",
    "y = df[\"target\"]\n",
    "\n",
    "X_train, X_test, y_train, y_test = train_test_split(X, y, test_size=0.2, random_state=42)"
   ]
  },
  {
   "cell_type": "code",
   "execution_count": null,
   "id": "6e4e32b7",
   "metadata": {},
   "outputs": [
    {
     "name": "stdout",
     "output_type": "stream",
     "text": [
      "Accuracy:  0.6829268292682927\n"
     ]
    }
   ],
   "source": [
    "dt = DecisionTreeClassifier(random_state=42)\n",
    "knn = KNeighborsClassifier()\n",
    "rf = RandomForestClassifier(random_state=42)\n",
    "xgbc = XGBClassifier(random_state=42)\n",
    "\n",
    "voting_clf = VotingClassifier(\n",
    "    estimators=[('dt', dt), ('knn', knn), (\"rf\", rf), (\"xgbc\", xgbc)],\n",
    "    voting=\"hard\"\n",
    ")\n",
    "\n",
    "voting_clf.fit(X_train, y_train)\n",
    "y_pred = voting_clf.predict(X_test)\n",
    "print(\"Accuracy: \", accuracy_score(y_test, y_pred))"
   ]
  },
  {
   "cell_type": "code",
   "execution_count": null,
   "id": "66c69aee",
   "metadata": {},
   "outputs": [
    {
     "name": "stdout",
     "output_type": "stream",
     "text": [
      "Accuracy:  0.6878048780487804\n"
     ]
    }
   ],
   "source": [
    "voting_clf = VotingClassifier(\n",
    "    estimators=[('dt', dt), ('knn', knn), (\"rf\", rf), (\"xgbc\", xgbc)],\n",
    "    voting=\"soft\"\n",
    ")\n",
    "\n",
    "voting_clf.fit(X_train, y_train)\n",
    "y_pred = voting_clf.predict(X_test)\n",
    "print(\"Accuracy: \", accuracy_score(y_test, y_pred))"
   ]
  },
  {
   "cell_type": "code",
   "execution_count": 22,
   "id": "4db57083",
   "metadata": {},
   "outputs": [
    {
     "name": "stdout",
     "output_type": "stream",
     "text": [
      "Best Accuracy:  0.6878048780487804\n",
      "Best Weights:  [1, 1, 3, 2]\n"
     ]
    }
   ],
   "source": [
    "best_acc = 0\n",
    "best_weights = None\n",
    "voting_clf = None\n",
    "for i in range(20):\n",
    "    weights = np.random.randint(1, 6, size=4).tolist()\n",
    "\n",
    "    voting_clf = VotingClassifier(\n",
    "        estimators=[('dt', dt), ('knn', knn), (\"rf\", rf), (\"xgbc\", xgbc)],\n",
    "        voting=\"soft\",\n",
    "        weights=weights\n",
    "    )\n",
    "\n",
    "    voting_clf.fit(X_train, y_train)\n",
    "    y_pred = voting_clf.predict(X_test)\n",
    "    acc = accuracy_score(y_test, y_pred)\n",
    "    if acc > best_acc:\n",
    "        best_acc = acc\n",
    "        best_weights = weights\n",
    "\n",
    "print(\"Best Accuracy: \", best_acc)\n",
    "print(\"Best Weights: \", best_weights)"
   ]
  },
  {
   "cell_type": "code",
   "execution_count": null,
   "id": "4f2cd9eb",
   "metadata": {},
   "outputs": [
    {
     "data": {
      "image/png": "[encoded data removed]",
      "text/plain": [
       "<Figure size 800x500 with 1 Axes>"
      ]
     },
     "metadata": {},
     "output_type": "display_data"
    }
   ],
   "source": [
    "train_sizes, train_scores, test_scores = learning_curve(\n",
    "    voting_clf, X, y, cv=5,\n",
    "    scoring=\"accuracy\",\n",
    "    train_sizes=np.linspace(0.1, 1.0, 10),\n",
    "    random_state=42\n",
    ")\n",
    "\n",
    "train_mean = np.mean(train_scores, axis=1)\n",
    "test_mean = np.mean(test_scores, axis=1)\n",
    "\n",
    "plt.figure(figsize=(8,5))\n",
    "plt.plot(train_sizes, train_mean, label=\"Training Accuracy\")\n",
    "plt.plot(train_sizes, test_mean, label=\"Validation Accuracy\")\n",
    "plt.title('Bias-Variance Tradeoff (Learning Curve)')\n",
    "plt.xlabel('Training Set Size')\n",
    "plt.ylabel('Accuracy')\n",
    "plt.legend()\n",
    "plt.grid(True)\n",
    "plt.show()"
   ]
  },
  {
   "cell_type": "markdown",
   "id": "1d7c9630",
   "metadata": {},
   "source": [
    "# Q3"
   ]
  },
  {
   "cell_type": "code",
   "execution_count": 26,
   "id": "36e63287",
   "metadata": {},
   "outputs": [
    {
     "name": "stdout",
     "output_type": "stream",
     "text": [
      "Random Forest: Train=0.773, Test=0.688\n",
      "XGBoost: Train=0.771, Test=0.683\n"
     ]
    }
   ],
   "source": [
    "rf = RandomForestClassifier(random_state=42)\n",
    "adb = AdaBoostClassifier(random_state=42)\n",
    "xgbc = XGBClassifier()\n",
    "\n",
    "rf.fit(X_train, y_train)\n",
    "adb.fit(X_train, y_train)\n",
    "xgbc.fit(X_train, y_train)\n",
    "\n",
    "rf_train_acc = rf.score(X_train, y_train)\n",
    "rf_test_acc = rf.score(X_test, y_test)\n",
    "\n",
    "xgbc_train_acc = xgbc.score(X_train, y_train)\n",
    "xgbc_test_acc = xgbc.score(X_test, y_test)\n",
    "\n",
    "print(f\"Random Forest: Train={rf_train_acc:.3f}, Test={rf_test_acc:.3f}\")\n",
    "print(f\"XGBoost: Train={xgbc_train_acc:.3f}, Test={xgbc_test_acc:.3f}\")"
   ]
  },
  {
   "cell_type": "code",
   "execution_count": 27,
   "id": "ca84d7d3",
   "metadata": {},
   "outputs": [
    {
     "name": "stdout",
     "output_type": "stream",
     "text": [
      "Voting Ensemble: Train=0.773, Test=0.688\n"
     ]
    }
   ],
   "source": [
    "voting_clf = VotingClassifier(\n",
    "    estimators=[('rf', rf), ('adb', adb)],\n",
    "    voting='soft'\n",
    ")\n",
    "\n",
    "voting_clf.fit(X_train, y_train)\n",
    "\n",
    "voting_train_acc = voting_clf.score(X_train, y_train)\n",
    "voting_test_acc = voting_clf.score(X_test, y_test)\n",
    "\n",
    "print(f\"Voting Ensemble: Train={voting_train_acc:.3f}, Test={voting_test_acc:.3f}\")"
   ]
  },
  {
   "cell_type": "code",
   "execution_count": 30,
   "id": "30b3c28e",
   "metadata": {},
   "outputs": [
    {
     "data": {
      "image/png": "[encoded data removed]",
      "text/plain": [
       "<Figure size 800x500 with 1 Axes>"
      ]
     },
     "metadata": {},
     "output_type": "display_data"
    }
   ],
   "source": [
    "models = ['Random Forest', 'XGBoost', 'Voting (RF+AdaBoost)']\n",
    "train_acc = [rf_train_acc, xgbc_train_acc, voting_train_acc]\n",
    "test_acc = [rf_test_acc, xgbc_test_acc, voting_test_acc]\n",
    "\n",
    "x = np.arange(len(models))\n",
    "width = 0.35\n",
    "\n",
    "plt.figure(figsize=(8,5))\n",
    "plt.bar(x - width/2, train_acc, width, label='Training Accuracy')\n",
    "plt.bar(x + width/2, test_acc, width, label='Testing Accuracy')\n",
    "\n",
    "plt.xticks(x, models)\n",
    "plt.ylabel('Accuracy')\n",
    "plt.title('Training vs Testing Accuracy of Models')\n",
    "plt.ylim(0, 1.1)\n",
    "plt.legend()\n",
    "plt.grid(axis='y', linestyle='--', alpha=0.7)\n",
    "plt.show()\n"
   ]
  }
 ],
 "metadata": {
  "kernelspec": {
   "display_name": "Python 3",
   "language": "python",
   "name": "python3"
  },
  "language_info": {
   "codemirror_mode": {
    "name": "ipython",
    "version": 3
   },
   "file_extension": ".py",
   "mimetype": "text/x-python",
   "name": "python",
   "nbconvert_exporter": "python",
   "pygments_lexer": "ipython3",
   "version": "3.12.6"
  }
 },
 "nbformat": 4,
 "nbformat_minor": 5
}
