{
 "cells": [
  {
   "cell_type": "code",
   "execution_count": 2,
   "id": "dc6cbc07",
   "metadata": {},
   "outputs": [],
   "source": [
    "import numpy as np\n",
    "import matplotlib.pyplot as plt\n",
    "import seaborn as sns\n",
    "import pandas as pd\n",
    "from math import log2\n",
    "from sklearn.preprocessing import OrdinalEncoder\n",
    "from sklearn.tree import DecisionTreeClassifier\n",
    "from sklearn.model_selection import train_test_split\n",
    "from sklearn.metrics import accuracy_score, confusion_matrix"
   ]
  },
  {
   "cell_type": "markdown",
   "id": "56cfcca3",
   "metadata": {},
   "source": [
    "# Q1"
   ]
  },
  {
   "cell_type": "code",
   "execution_count": 281,
   "id": "72d655fc",
   "metadata": {},
   "outputs": [
    {
     "name": "stdout",
     "output_type": "stream",
     "text": [
      "Extracted columns: ['age', 'workclass', 'fnlwgt', 'education', 'education-num', 'marital-status', 'occupation', 'relationship', 'race', 'sex', 'capital-gain', 'capital-loss', 'hours-per-week', 'native-country', 'income']\n"
     ]
    }
   ],
   "source": [
    "# Read attribute names from adult.names\n",
    "cols = []\n",
    "with open(\"../data/04/adult/adult.names\") as f:\n",
    "    for line in f:\n",
    "        # Skip comments and blank lines\n",
    "        if not line.strip() or line.startswith(\"|\"):\n",
    "            continue\n",
    "        if \":\" in line:  \n",
    "            name = line.split(\":\")[0].strip()\n",
    "            cols.append(name)\n",
    "\n",
    "# Add the label column manually (it's not in adult.names)\n",
    "cols.append(\"income\")\n",
    "\n",
    "print(\"Extracted columns:\", cols)"
   ]
  },
  {
   "cell_type": "code",
   "execution_count": 282,
   "id": "71bb8414",
   "metadata": {},
   "outputs": [],
   "source": [
    "train_adult = pd.read_csv(\"../data/04/adult/adult.data\", names=cols)\n",
    "test_adult = pd.read_csv(\"../data/04/adult/adult.test\", names=cols)\n",
    "forest_train = pd.read_csv(\"../data/04/forest+type+mapping/training.csv\")\n",
    "forest_test = pd.read_csv(\"../data/04/forest+type+mapping/testing.csv\")"
   ]
  },
  {
   "cell_type": "code",
   "execution_count": 283,
   "id": "f7f77ffd",
   "metadata": {},
   "outputs": [
    {
     "data": {
      "text/html": [
       "<div>\n",
       "<style scoped>\n",
       "    .dataframe tbody tr th:only-of-type {\n",
       "        vertical-align: middle;\n",
       "    }\n",
       "\n",
       "    .dataframe tbody tr th {\n",
       "        vertical-align: top;\n",
       "    }\n",
       "\n",
       "    .dataframe thead th {\n",
       "        text-align: right;\n",
       "    }\n",
       "</style>\n",
       "<table border=\"1\" class=\"dataframe\">\n",
       "  <thead>\n",
       "    <tr style=\"text-align: right;\">\n",
       "      <th></th>\n",
       "      <th>age</th>\n",
       "      <th>workclass</th>\n",
       "      <th>fnlwgt</th>\n",
       "      <th>education</th>\n",
       "      <th>education-num</th>\n",
       "      <th>marital-status</th>\n",
       "      <th>occupation</th>\n",
       "      <th>relationship</th>\n",
       "      <th>race</th>\n",
       "      <th>sex</th>\n",
       "      <th>capital-gain</th>\n",
       "      <th>capital-loss</th>\n",
       "      <th>hours-per-week</th>\n",
       "      <th>native-country</th>\n",
       "      <th>income</th>\n",
       "    </tr>\n",
       "  </thead>\n",
       "  <tbody>\n",
       "    <tr>\n",
       "      <th>0</th>\n",
       "      <td>39</td>\n",
       "      <td>State-gov</td>\n",
       "      <td>77516</td>\n",
       "      <td>Bachelors</td>\n",
       "      <td>13</td>\n",
       "      <td>Never-married</td>\n",
       "      <td>Adm-clerical</td>\n",
       "      <td>Not-in-family</td>\n",
       "      <td>White</td>\n",
       "      <td>Male</td>\n",
       "      <td>2174</td>\n",
       "      <td>0</td>\n",
       "      <td>40</td>\n",
       "      <td>United-States</td>\n",
       "      <td>&lt;=50K</td>\n",
       "    </tr>\n",
       "    <tr>\n",
       "      <th>1</th>\n",
       "      <td>50</td>\n",
       "      <td>Self-emp-not-inc</td>\n",
       "      <td>83311</td>\n",
       "      <td>Bachelors</td>\n",
       "      <td>13</td>\n",
       "      <td>Married-civ-spouse</td>\n",
       "      <td>Exec-managerial</td>\n",
       "      <td>Husband</td>\n",
       "      <td>White</td>\n",
       "      <td>Male</td>\n",
       "      <td>0</td>\n",
       "      <td>0</td>\n",
       "      <td>13</td>\n",
       "      <td>United-States</td>\n",
       "      <td>&lt;=50K</td>\n",
       "    </tr>\n",
       "    <tr>\n",
       "      <th>2</th>\n",
       "      <td>38</td>\n",
       "      <td>Private</td>\n",
       "      <td>215646</td>\n",
       "      <td>HS-grad</td>\n",
       "      <td>9</td>\n",
       "      <td>Divorced</td>\n",
       "      <td>Handlers-cleaners</td>\n",
       "      <td>Not-in-family</td>\n",
       "      <td>White</td>\n",
       "      <td>Male</td>\n",
       "      <td>0</td>\n",
       "      <td>0</td>\n",
       "      <td>40</td>\n",
       "      <td>United-States</td>\n",
       "      <td>&lt;=50K</td>\n",
       "    </tr>\n",
       "    <tr>\n",
       "      <th>3</th>\n",
       "      <td>53</td>\n",
       "      <td>Private</td>\n",
       "      <td>234721</td>\n",
       "      <td>11th</td>\n",
       "      <td>7</td>\n",
       "      <td>Married-civ-spouse</td>\n",
       "      <td>Handlers-cleaners</td>\n",
       "      <td>Husband</td>\n",
       "      <td>Black</td>\n",
       "      <td>Male</td>\n",
       "      <td>0</td>\n",
       "      <td>0</td>\n",
       "      <td>40</td>\n",
       "      <td>United-States</td>\n",
       "      <td>&lt;=50K</td>\n",
       "    </tr>\n",
       "    <tr>\n",
       "      <th>4</th>\n",
       "      <td>28</td>\n",
       "      <td>Private</td>\n",
       "      <td>338409</td>\n",
       "      <td>Bachelors</td>\n",
       "      <td>13</td>\n",
       "      <td>Married-civ-spouse</td>\n",
       "      <td>Prof-specialty</td>\n",
       "      <td>Wife</td>\n",
       "      <td>Black</td>\n",
       "      <td>Female</td>\n",
       "      <td>0</td>\n",
       "      <td>0</td>\n",
       "      <td>40</td>\n",
       "      <td>Cuba</td>\n",
       "      <td>&lt;=50K</td>\n",
       "    </tr>\n",
       "  </tbody>\n",
       "</table>\n",
       "</div>"
      ],
      "text/plain": [
       "   age          workclass  fnlwgt   education  education-num  \\\n",
       "0   39          State-gov   77516   Bachelors             13   \n",
       "1   50   Self-emp-not-inc   83311   Bachelors             13   \n",
       "2   38            Private  215646     HS-grad              9   \n",
       "3   53            Private  234721        11th              7   \n",
       "4   28            Private  338409   Bachelors             13   \n",
       "\n",
       "        marital-status          occupation    relationship    race      sex  \\\n",
       "0        Never-married        Adm-clerical   Not-in-family   White     Male   \n",
       "1   Married-civ-spouse     Exec-managerial         Husband   White     Male   \n",
       "2             Divorced   Handlers-cleaners   Not-in-family   White     Male   \n",
       "3   Married-civ-spouse   Handlers-cleaners         Husband   Black     Male   \n",
       "4   Married-civ-spouse      Prof-specialty            Wife   Black   Female   \n",
       "\n",
       "   capital-gain  capital-loss  hours-per-week  native-country  income  \n",
       "0          2174             0              40   United-States   <=50K  \n",
       "1             0             0              13   United-States   <=50K  \n",
       "2             0             0              40   United-States   <=50K  \n",
       "3             0             0              40   United-States   <=50K  \n",
       "4             0             0              40            Cuba   <=50K  "
      ]
     },
     "metadata": {},
     "output_type": "display_data"
    },
    {
     "data": {
      "text/html": [
       "<div>\n",
       "<style scoped>\n",
       "    .dataframe tbody tr th:only-of-type {\n",
       "        vertical-align: middle;\n",
       "    }\n",
       "\n",
       "    .dataframe tbody tr th {\n",
       "        vertical-align: top;\n",
       "    }\n",
       "\n",
       "    .dataframe thead th {\n",
       "        text-align: right;\n",
       "    }\n",
       "</style>\n",
       "<table border=\"1\" class=\"dataframe\">\n",
       "  <thead>\n",
       "    <tr style=\"text-align: right;\">\n",
       "      <th></th>\n",
       "      <th>age</th>\n",
       "      <th>workclass</th>\n",
       "      <th>fnlwgt</th>\n",
       "      <th>education</th>\n",
       "      <th>education-num</th>\n",
       "      <th>marital-status</th>\n",
       "      <th>occupation</th>\n",
       "      <th>relationship</th>\n",
       "      <th>race</th>\n",
       "      <th>sex</th>\n",
       "      <th>capital-gain</th>\n",
       "      <th>capital-loss</th>\n",
       "      <th>hours-per-week</th>\n",
       "      <th>native-country</th>\n",
       "      <th>income</th>\n",
       "    </tr>\n",
       "  </thead>\n",
       "  <tbody>\n",
       "    <tr>\n",
       "      <th>0</th>\n",
       "      <td>|1x3 Cross validator</td>\n",
       "      <td>NaN</td>\n",
       "      <td>NaN</td>\n",
       "      <td>NaN</td>\n",
       "      <td>NaN</td>\n",
       "      <td>NaN</td>\n",
       "      <td>NaN</td>\n",
       "      <td>NaN</td>\n",
       "      <td>NaN</td>\n",
       "      <td>NaN</td>\n",
       "      <td>NaN</td>\n",
       "      <td>NaN</td>\n",
       "      <td>NaN</td>\n",
       "      <td>NaN</td>\n",
       "      <td>NaN</td>\n",
       "    </tr>\n",
       "    <tr>\n",
       "      <th>1</th>\n",
       "      <td>25</td>\n",
       "      <td>Private</td>\n",
       "      <td>226802.0</td>\n",
       "      <td>11th</td>\n",
       "      <td>7.0</td>\n",
       "      <td>Never-married</td>\n",
       "      <td>Machine-op-inspct</td>\n",
       "      <td>Own-child</td>\n",
       "      <td>Black</td>\n",
       "      <td>Male</td>\n",
       "      <td>0.0</td>\n",
       "      <td>0.0</td>\n",
       "      <td>40.0</td>\n",
       "      <td>United-States</td>\n",
       "      <td>&lt;=50K.</td>\n",
       "    </tr>\n",
       "    <tr>\n",
       "      <th>2</th>\n",
       "      <td>38</td>\n",
       "      <td>Private</td>\n",
       "      <td>89814.0</td>\n",
       "      <td>HS-grad</td>\n",
       "      <td>9.0</td>\n",
       "      <td>Married-civ-spouse</td>\n",
       "      <td>Farming-fishing</td>\n",
       "      <td>Husband</td>\n",
       "      <td>White</td>\n",
       "      <td>Male</td>\n",
       "      <td>0.0</td>\n",
       "      <td>0.0</td>\n",
       "      <td>50.0</td>\n",
       "      <td>United-States</td>\n",
       "      <td>&lt;=50K.</td>\n",
       "    </tr>\n",
       "    <tr>\n",
       "      <th>3</th>\n",
       "      <td>28</td>\n",
       "      <td>Local-gov</td>\n",
       "      <td>336951.0</td>\n",
       "      <td>Assoc-acdm</td>\n",
       "      <td>12.0</td>\n",
       "      <td>Married-civ-spouse</td>\n",
       "      <td>Protective-serv</td>\n",
       "      <td>Husband</td>\n",
       "      <td>White</td>\n",
       "      <td>Male</td>\n",
       "      <td>0.0</td>\n",
       "      <td>0.0</td>\n",
       "      <td>40.0</td>\n",
       "      <td>United-States</td>\n",
       "      <td>&gt;50K.</td>\n",
       "    </tr>\n",
       "    <tr>\n",
       "      <th>4</th>\n",
       "      <td>44</td>\n",
       "      <td>Private</td>\n",
       "      <td>160323.0</td>\n",
       "      <td>Some-college</td>\n",
       "      <td>10.0</td>\n",
       "      <td>Married-civ-spouse</td>\n",
       "      <td>Machine-op-inspct</td>\n",
       "      <td>Husband</td>\n",
       "      <td>Black</td>\n",
       "      <td>Male</td>\n",
       "      <td>7688.0</td>\n",
       "      <td>0.0</td>\n",
       "      <td>40.0</td>\n",
       "      <td>United-States</td>\n",
       "      <td>&gt;50K.</td>\n",
       "    </tr>\n",
       "  </tbody>\n",
       "</table>\n",
       "</div>"
      ],
      "text/plain": [
       "                    age   workclass    fnlwgt      education  education-num  \\\n",
       "0  |1x3 Cross validator         NaN       NaN            NaN            NaN   \n",
       "1                    25     Private  226802.0           11th            7.0   \n",
       "2                    38     Private   89814.0        HS-grad            9.0   \n",
       "3                    28   Local-gov  336951.0     Assoc-acdm           12.0   \n",
       "4                    44     Private  160323.0   Some-college           10.0   \n",
       "\n",
       "        marital-status          occupation relationship    race    sex  \\\n",
       "0                  NaN                 NaN          NaN     NaN    NaN   \n",
       "1        Never-married   Machine-op-inspct    Own-child   Black   Male   \n",
       "2   Married-civ-spouse     Farming-fishing      Husband   White   Male   \n",
       "3   Married-civ-spouse     Protective-serv      Husband   White   Male   \n",
       "4   Married-civ-spouse   Machine-op-inspct      Husband   Black   Male   \n",
       "\n",
       "   capital-gain  capital-loss  hours-per-week  native-country   income  \n",
       "0           NaN           NaN             NaN             NaN      NaN  \n",
       "1           0.0           0.0            40.0   United-States   <=50K.  \n",
       "2           0.0           0.0            50.0   United-States   <=50K.  \n",
       "3           0.0           0.0            40.0   United-States    >50K.  \n",
       "4        7688.0           0.0            40.0   United-States    >50K.  "
      ]
     },
     "metadata": {},
     "output_type": "display_data"
    }
   ],
   "source": [
    "display(train_adult.head())\n",
    "display(test_adult.head())"
   ]
  },
  {
   "cell_type": "code",
   "execution_count": 284,
   "id": "5424c872",
   "metadata": {},
   "outputs": [],
   "source": [
    "test_adult[\"income\"] = test_adult['income'].str.replace(\".\", \" \", regex=False)"
   ]
  },
  {
   "cell_type": "code",
   "execution_count": 285,
   "id": "6460391d",
   "metadata": {},
   "outputs": [
    {
     "name": "stdout",
     "output_type": "stream",
     "text": [
      "<class 'pandas.core.frame.DataFrame'>\n",
      "RangeIndex: 32561 entries, 0 to 32560\n",
      "Data columns (total 15 columns):\n",
      " #   Column          Non-Null Count  Dtype \n",
      "---  ------          --------------  ----- \n",
      " 0   age             32561 non-null  int64 \n",
      " 1   workclass       32561 non-null  object\n",
      " 2   fnlwgt          32561 non-null  int64 \n",
      " 3   education       32561 non-null  object\n",
      " 4   education-num   32561 non-null  int64 \n",
      " 5   marital-status  32561 non-null  object\n",
      " 6   occupation      32561 non-null  object\n",
      " 7   relationship    32561 non-null  object\n",
      " 8   race            32561 non-null  object\n",
      " 9   sex             32561 non-null  object\n",
      " 10  capital-gain    32561 non-null  int64 \n",
      " 11  capital-loss    32561 non-null  int64 \n",
      " 12  hours-per-week  32561 non-null  int64 \n",
      " 13  native-country  32561 non-null  object\n",
      " 14  income          32561 non-null  object\n",
      "dtypes: int64(6), object(9)\n",
      "memory usage: 3.7+ MB\n"
     ]
    }
   ],
   "source": [
    "train_adult.info()"
   ]
  },
  {
   "cell_type": "code",
   "execution_count": 286,
   "id": "2b52643f",
   "metadata": {},
   "outputs": [
    {
     "name": "stdout",
     "output_type": "stream",
     "text": [
      "<class 'pandas.core.frame.DataFrame'>\n",
      "RangeIndex: 16282 entries, 0 to 16281\n",
      "Data columns (total 15 columns):\n",
      " #   Column          Non-Null Count  Dtype  \n",
      "---  ------          --------------  -----  \n",
      " 0   age             16282 non-null  object \n",
      " 1   workclass       16281 non-null  object \n",
      " 2   fnlwgt          16281 non-null  float64\n",
      " 3   education       16281 non-null  object \n",
      " 4   education-num   16281 non-null  float64\n",
      " 5   marital-status  16281 non-null  object \n",
      " 6   occupation      16281 non-null  object \n",
      " 7   relationship    16281 non-null  object \n",
      " 8   race            16281 non-null  object \n",
      " 9   sex             16281 non-null  object \n",
      " 10  capital-gain    16281 non-null  float64\n",
      " 11  capital-loss    16281 non-null  float64\n",
      " 12  hours-per-week  16281 non-null  float64\n",
      " 13  native-country  16281 non-null  object \n",
      " 14  income          16281 non-null  object \n",
      "dtypes: float64(5), object(10)\n",
      "memory usage: 1.9+ MB\n"
     ]
    }
   ],
   "source": [
    "test_adult.info()"
   ]
  },
  {
   "cell_type": "code",
   "execution_count": 287,
   "id": "f8b2dc85",
   "metadata": {},
   "outputs": [],
   "source": [
    "test_adult.dropna(inplace=True)"
   ]
  },
  {
   "cell_type": "code",
   "execution_count": 288,
   "id": "714fea01",
   "metadata": {},
   "outputs": [
    {
     "data": {
      "text/plain": [
       "workclass\n",
       "Private             22696\n",
       "Self-emp-not-inc     2541\n",
       "Local-gov            2093\n",
       "?                    1836\n",
       "State-gov            1298\n",
       "Self-emp-inc         1116\n",
       "Federal-gov           960\n",
       "Without-pay            14\n",
       "Never-worked            7\n",
       "Name: count, dtype: int64"
      ]
     },
     "metadata": {},
     "output_type": "display_data"
    },
    {
     "data": {
      "text/plain": [
       "occupation\n",
       "Prof-specialty       4140\n",
       "Craft-repair         4099\n",
       "Exec-managerial      4066\n",
       "Adm-clerical         3770\n",
       "Sales                3650\n",
       "Other-service        3295\n",
       "Machine-op-inspct    2002\n",
       "?                    1843\n",
       "Transport-moving     1597\n",
       "Handlers-cleaners    1370\n",
       "Farming-fishing       994\n",
       "Tech-support          928\n",
       "Protective-serv       649\n",
       "Priv-house-serv       149\n",
       "Armed-Forces            9\n",
       "Name: count, dtype: int64"
      ]
     },
     "metadata": {},
     "output_type": "display_data"
    },
    {
     "data": {
      "text/plain": [
       "native-country\n",
       "United-States                 29170\n",
       "Mexico                          643\n",
       "?                               583\n",
       "Philippines                     198\n",
       "Germany                         137\n",
       "Canada                          121\n",
       "Puerto-Rico                     114\n",
       "El-Salvador                     106\n",
       "India                           100\n",
       "Cuba                             95\n",
       "England                          90\n",
       "Jamaica                          81\n",
       "South                            80\n",
       "China                            75\n",
       "Italy                            73\n",
       "Dominican-Republic               70\n",
       "Vietnam                          67\n",
       "Guatemala                        64\n",
       "Japan                            62\n",
       "Poland                           60\n",
       "Columbia                         59\n",
       "Taiwan                           51\n",
       "Haiti                            44\n",
       "Iran                             43\n",
       "Portugal                         37\n",
       "Nicaragua                        34\n",
       "Peru                             31\n",
       "France                           29\n",
       "Greece                           29\n",
       "Ecuador                          28\n",
       "Ireland                          24\n",
       "Hong                             20\n",
       "Trinadad&Tobago                  19\n",
       "Cambodia                         19\n",
       "Thailand                         18\n",
       "Laos                             18\n",
       "Yugoslavia                       16\n",
       "Outlying-US(Guam-USVI-etc)       14\n",
       "Honduras                         13\n",
       "Hungary                          13\n",
       "Scotland                         12\n",
       "Holand-Netherlands                1\n",
       "Name: count, dtype: int64"
      ]
     },
     "metadata": {},
     "output_type": "display_data"
    }
   ],
   "source": [
    "display(train_adult[\"workclass\"].value_counts())\n",
    "display(train_adult[\"occupation\"].value_counts())\n",
    "display(train_adult[\"native-country\"].value_counts())"
   ]
  },
  {
   "cell_type": "code",
   "execution_count": 289,
   "id": "7dd1ee83",
   "metadata": {},
   "outputs": [],
   "source": [
    "obj_cols = train_adult.select_dtypes(include=\"object\").columns\n",
    "train_adult[obj_cols] = train_adult[obj_cols].replace(\" ?\", np.nan)\n",
    "\n",
    "obj_cols = test_adult.select_dtypes(include=\"object\").columns\n",
    "test_adult[obj_cols] = test_adult[obj_cols].replace(\" ?\", np.nan)"
   ]
  },
  {
   "cell_type": "code",
   "execution_count": 290,
   "id": "20e71c10",
   "metadata": {},
   "outputs": [
    {
     "data": {
      "text/plain": [
       "age                  0\n",
       "workclass         1836\n",
       "fnlwgt               0\n",
       "education            0\n",
       "education-num        0\n",
       "marital-status       0\n",
       "occupation        1843\n",
       "relationship         0\n",
       "race                 0\n",
       "sex                  0\n",
       "capital-gain         0\n",
       "capital-loss         0\n",
       "hours-per-week       0\n",
       "native-country     583\n",
       "income               0\n",
       "dtype: int64"
      ]
     },
     "execution_count": 290,
     "metadata": {},
     "output_type": "execute_result"
    }
   ],
   "source": [
    "train_adult.isna().sum()"
   ]
  },
  {
   "cell_type": "code",
   "execution_count": 291,
   "id": "d7e9e544",
   "metadata": {},
   "outputs": [],
   "source": [
    "train_adult[obj_cols] = train_adult[obj_cols].fillna(train_adult[obj_cols].mode().iloc[0])\n",
    "test_adult[obj_cols] = test_adult[obj_cols].fillna(test_adult[obj_cols].mode().iloc[0])"
   ]
  },
  {
   "cell_type": "code",
   "execution_count": 292,
   "id": "f3008b5e",
   "metadata": {},
   "outputs": [],
   "source": [
    "enc = OrdinalEncoder(handle_unknown=\"use_encoded_value\", unknown_value=-1)\n",
    "train_adult[obj_cols] = enc.fit_transform(train_adult[obj_cols])\n",
    "test_adult[obj_cols] = enc.fit_transform(test_adult[obj_cols])"
   ]
  },
  {
   "cell_type": "code",
   "execution_count": 293,
   "id": "e155d994",
   "metadata": {},
   "outputs": [
    {
     "data": {
      "text/plain": [
       "income\n",
       "0.0    24720\n",
       "1.0     7841\n",
       "Name: count, dtype: int64"
      ]
     },
     "execution_count": 293,
     "metadata": {},
     "output_type": "execute_result"
    }
   ],
   "source": [
    "train_adult[\"income\"].value_counts()"
   ]
  },
  {
   "cell_type": "code",
   "execution_count": 294,
   "id": "3c29f430",
   "metadata": {},
   "outputs": [
    {
     "data": {
      "text/html": [
       "<div>\n",
       "<style scoped>\n",
       "    .dataframe tbody tr th:only-of-type {\n",
       "        vertical-align: middle;\n",
       "    }\n",
       "\n",
       "    .dataframe tbody tr th {\n",
       "        vertical-align: top;\n",
       "    }\n",
       "\n",
       "    .dataframe thead th {\n",
       "        text-align: right;\n",
       "    }\n",
       "</style>\n",
       "<table border=\"1\" class=\"dataframe\">\n",
       "  <thead>\n",
       "    <tr style=\"text-align: right;\">\n",
       "      <th></th>\n",
       "      <th>class</th>\n",
       "      <th>b1</th>\n",
       "      <th>b2</th>\n",
       "      <th>b3</th>\n",
       "      <th>b4</th>\n",
       "      <th>b5</th>\n",
       "      <th>b6</th>\n",
       "      <th>b7</th>\n",
       "      <th>b8</th>\n",
       "      <th>b9</th>\n",
       "      <th>...</th>\n",
       "      <th>pred_minus_obs_H_b9</th>\n",
       "      <th>pred_minus_obs_S_b1</th>\n",
       "      <th>pred_minus_obs_S_b2</th>\n",
       "      <th>pred_minus_obs_S_b3</th>\n",
       "      <th>pred_minus_obs_S_b4</th>\n",
       "      <th>pred_minus_obs_S_b5</th>\n",
       "      <th>pred_minus_obs_S_b6</th>\n",
       "      <th>pred_minus_obs_S_b7</th>\n",
       "      <th>pred_minus_obs_S_b8</th>\n",
       "      <th>pred_minus_obs_S_b9</th>\n",
       "    </tr>\n",
       "  </thead>\n",
       "  <tbody>\n",
       "    <tr>\n",
       "      <th>0</th>\n",
       "      <td>d</td>\n",
       "      <td>39</td>\n",
       "      <td>36</td>\n",
       "      <td>57</td>\n",
       "      <td>91</td>\n",
       "      <td>59</td>\n",
       "      <td>101</td>\n",
       "      <td>93</td>\n",
       "      <td>27</td>\n",
       "      <td>60</td>\n",
       "      <td>...</td>\n",
       "      <td>-2.36</td>\n",
       "      <td>-18.41</td>\n",
       "      <td>-1.88</td>\n",
       "      <td>-6.43</td>\n",
       "      <td>-21.03</td>\n",
       "      <td>-1.60</td>\n",
       "      <td>-6.18</td>\n",
       "      <td>-22.50</td>\n",
       "      <td>-5.20</td>\n",
       "      <td>-7.86</td>\n",
       "    </tr>\n",
       "    <tr>\n",
       "      <th>1</th>\n",
       "      <td>h</td>\n",
       "      <td>84</td>\n",
       "      <td>30</td>\n",
       "      <td>57</td>\n",
       "      <td>112</td>\n",
       "      <td>51</td>\n",
       "      <td>98</td>\n",
       "      <td>92</td>\n",
       "      <td>26</td>\n",
       "      <td>62</td>\n",
       "      <td>...</td>\n",
       "      <td>-2.26</td>\n",
       "      <td>-16.27</td>\n",
       "      <td>-1.95</td>\n",
       "      <td>-6.25</td>\n",
       "      <td>-18.79</td>\n",
       "      <td>-1.99</td>\n",
       "      <td>-6.18</td>\n",
       "      <td>-23.41</td>\n",
       "      <td>-8.87</td>\n",
       "      <td>-10.83</td>\n",
       "    </tr>\n",
       "    <tr>\n",
       "      <th>2</th>\n",
       "      <td>s</td>\n",
       "      <td>53</td>\n",
       "      <td>25</td>\n",
       "      <td>49</td>\n",
       "      <td>99</td>\n",
       "      <td>51</td>\n",
       "      <td>93</td>\n",
       "      <td>84</td>\n",
       "      <td>26</td>\n",
       "      <td>58</td>\n",
       "      <td>...</td>\n",
       "      <td>-1.46</td>\n",
       "      <td>-15.92</td>\n",
       "      <td>-1.79</td>\n",
       "      <td>-4.64</td>\n",
       "      <td>-17.73</td>\n",
       "      <td>-0.48</td>\n",
       "      <td>-4.69</td>\n",
       "      <td>-19.97</td>\n",
       "      <td>-4.10</td>\n",
       "      <td>-7.07</td>\n",
       "    </tr>\n",
       "    <tr>\n",
       "      <th>3</th>\n",
       "      <td>s</td>\n",
       "      <td>59</td>\n",
       "      <td>26</td>\n",
       "      <td>49</td>\n",
       "      <td>103</td>\n",
       "      <td>47</td>\n",
       "      <td>92</td>\n",
       "      <td>82</td>\n",
       "      <td>25</td>\n",
       "      <td>56</td>\n",
       "      <td>...</td>\n",
       "      <td>2.68</td>\n",
       "      <td>-13.77</td>\n",
       "      <td>-2.53</td>\n",
       "      <td>-6.34</td>\n",
       "      <td>-22.03</td>\n",
       "      <td>-2.34</td>\n",
       "      <td>-6.60</td>\n",
       "      <td>-27.10</td>\n",
       "      <td>-7.99</td>\n",
       "      <td>-10.81</td>\n",
       "    </tr>\n",
       "    <tr>\n",
       "      <th>4</th>\n",
       "      <td>d</td>\n",
       "      <td>57</td>\n",
       "      <td>49</td>\n",
       "      <td>66</td>\n",
       "      <td>103</td>\n",
       "      <td>64</td>\n",
       "      <td>106</td>\n",
       "      <td>114</td>\n",
       "      <td>28</td>\n",
       "      <td>59</td>\n",
       "      <td>...</td>\n",
       "      <td>-2.94</td>\n",
       "      <td>-21.74</td>\n",
       "      <td>-1.64</td>\n",
       "      <td>-4.62</td>\n",
       "      <td>-23.74</td>\n",
       "      <td>-0.85</td>\n",
       "      <td>-5.50</td>\n",
       "      <td>-22.83</td>\n",
       "      <td>-2.74</td>\n",
       "      <td>-5.84</td>\n",
       "    </tr>\n",
       "  </tbody>\n",
       "</table>\n",
       "<p>5 rows × 28 columns</p>\n",
       "</div>"
      ],
      "text/plain": [
       "  class  b1  b2  b3   b4  b5   b6   b7  b8  b9  ...  pred_minus_obs_H_b9  \\\n",
       "0    d   39  36  57   91  59  101   93  27  60  ...                -2.36   \n",
       "1    h   84  30  57  112  51   98   92  26  62  ...                -2.26   \n",
       "2    s   53  25  49   99  51   93   84  26  58  ...                -1.46   \n",
       "3    s   59  26  49  103  47   92   82  25  56  ...                 2.68   \n",
       "4    d   57  49  66  103  64  106  114  28  59  ...                -2.94   \n",
       "\n",
       "   pred_minus_obs_S_b1  pred_minus_obs_S_b2  pred_minus_obs_S_b3  \\\n",
       "0               -18.41                -1.88                -6.43   \n",
       "1               -16.27                -1.95                -6.25   \n",
       "2               -15.92                -1.79                -4.64   \n",
       "3               -13.77                -2.53                -6.34   \n",
       "4               -21.74                -1.64                -4.62   \n",
       "\n",
       "   pred_minus_obs_S_b4  pred_minus_obs_S_b5  pred_minus_obs_S_b6  \\\n",
       "0               -21.03                -1.60                -6.18   \n",
       "1               -18.79                -1.99                -6.18   \n",
       "2               -17.73                -0.48                -4.69   \n",
       "3               -22.03                -2.34                -6.60   \n",
       "4               -23.74                -0.85                -5.50   \n",
       "\n",
       "   pred_minus_obs_S_b7  pred_minus_obs_S_b8  pred_minus_obs_S_b9  \n",
       "0               -22.50                -5.20                -7.86  \n",
       "1               -23.41                -8.87               -10.83  \n",
       "2               -19.97                -4.10                -7.07  \n",
       "3               -27.10                -7.99               -10.81  \n",
       "4               -22.83                -2.74                -5.84  \n",
       "\n",
       "[5 rows x 28 columns]"
      ]
     },
     "execution_count": 294,
     "metadata": {},
     "output_type": "execute_result"
    }
   ],
   "source": [
    "forest_train.head()"
   ]
  },
  {
   "cell_type": "code",
   "execution_count": 295,
   "id": "b67da50a",
   "metadata": {},
   "outputs": [
    {
     "name": "stdout",
     "output_type": "stream",
     "text": [
      "<class 'pandas.core.frame.DataFrame'>\n",
      "RangeIndex: 198 entries, 0 to 197\n",
      "Data columns (total 28 columns):\n",
      " #   Column               Non-Null Count  Dtype  \n",
      "---  ------               --------------  -----  \n",
      " 0   class                198 non-null    object \n",
      " 1   b1                   198 non-null    int64  \n",
      " 2   b2                   198 non-null    int64  \n",
      " 3   b3                   198 non-null    int64  \n",
      " 4   b4                   198 non-null    int64  \n",
      " 5   b5                   198 non-null    int64  \n",
      " 6   b6                   198 non-null    int64  \n",
      " 7   b7                   198 non-null    int64  \n",
      " 8   b8                   198 non-null    int64  \n",
      " 9   b9                   198 non-null    int64  \n",
      " 10  pred_minus_obs_H_b1  198 non-null    float64\n",
      " 11  pred_minus_obs_H_b2  198 non-null    float64\n",
      " 12  pred_minus_obs_H_b3  198 non-null    float64\n",
      " 13  pred_minus_obs_H_b4  198 non-null    float64\n",
      " 14  pred_minus_obs_H_b5  198 non-null    float64\n",
      " 15  pred_minus_obs_H_b6  198 non-null    float64\n",
      " 16  pred_minus_obs_H_b7  198 non-null    float64\n",
      " 17  pred_minus_obs_H_b8  198 non-null    float64\n",
      " 18  pred_minus_obs_H_b9  198 non-null    float64\n",
      " 19  pred_minus_obs_S_b1  198 non-null    float64\n",
      " 20  pred_minus_obs_S_b2  198 non-null    float64\n",
      " 21  pred_minus_obs_S_b3  198 non-null    float64\n",
      " 22  pred_minus_obs_S_b4  198 non-null    float64\n",
      " 23  pred_minus_obs_S_b5  198 non-null    float64\n",
      " 24  pred_minus_obs_S_b6  198 non-null    float64\n",
      " 25  pred_minus_obs_S_b7  198 non-null    float64\n",
      " 26  pred_minus_obs_S_b8  198 non-null    float64\n",
      " 27  pred_minus_obs_S_b9  198 non-null    float64\n",
      "dtypes: float64(18), int64(9), object(1)\n",
      "memory usage: 43.4+ KB\n"
     ]
    }
   ],
   "source": [
    "forest_train.info()"
   ]
  },
  {
   "cell_type": "code",
   "execution_count": 296,
   "id": "9d270caa",
   "metadata": {},
   "outputs": [],
   "source": [
    "X_adult_train = train_adult.drop(\"income\", axis=1)\n",
    "y_adult_train = train_adult[\"income\"]\n",
    "\n",
    "X_adult_test = test_adult.drop(\"income\", axis=1)\n",
    "y_adult_test = test_adult[\"income\"]\n",
    "\n",
    "X_forest_train = forest_train.drop(\"class\", axis=1)\n",
    "y_forest_train = forest_train[\"class\"]\n",
    "\n",
    "X_forest_test = forest_test.drop(\"class\", axis=1)\n",
    "y_forest_test = forest_test[\"class\"]\n",
    "\n",
    "results = {}\n",
    "results[\"Data1\"] = {}\n",
    "results[\"Data2\"] = {}"
   ]
  },
  {
   "cell_type": "markdown",
   "id": "e486055f",
   "metadata": {},
   "source": [
    "### Dataset 1 (Adult)"
   ]
  },
  {
   "cell_type": "markdown",
   "id": "8927c4b0",
   "metadata": {},
   "source": [
    "##### Without Pruning Entropy"
   ]
  },
  {
   "cell_type": "code",
   "execution_count": 297,
   "id": "199fc832",
   "metadata": {},
   "outputs": [
    {
     "name": "stdout",
     "output_type": "stream",
     "text": [
      "Training Accuracy:  0.9999692884125181\n",
      "Testing Accuracy:  0.8024691358024691\n"
     ]
    }
   ],
   "source": [
    "dt = DecisionTreeClassifier(criterion=\"entropy\")\n",
    "dt.fit(X_adult_train, y_adult_train)\n",
    "\n",
    "y_pred = dt.predict(X_adult_test)\n",
    "\n",
    "train_acc = dt.score(X_adult_train, y_adult_train)\n",
    "test_acc = accuracy_score(y_adult_test, y_pred)\n",
    "\n",
    "results[\"Data1\"][\"DT_Entropy\"] = (train_acc, test_acc)\n",
    "\n",
    "print(\"Training Accuracy: \", train_acc)\n",
    "print(\"Testing Accuracy: \", test_acc)"
   ]
  },
  {
   "cell_type": "markdown",
   "id": "20f65ac3",
   "metadata": {},
   "source": [
    "##### With Pruning Entropy"
   ]
  },
  {
   "cell_type": "code",
   "execution_count": 298,
   "id": "55bf809e",
   "metadata": {},
   "outputs": [
    {
     "name": "stdout",
     "output_type": "stream",
     "text": [
      "Training Accuracy:  0.8398083596941126\n",
      "Testing Accuracy:  0.839199066396413\n"
     ]
    }
   ],
   "source": [
    "dt = DecisionTreeClassifier(criterion=\"entropy\", ccp_alpha=0.015)\n",
    "dt.fit(X_adult_train, y_adult_train)\n",
    "\n",
    "y_pred = dt.predict(X_adult_test)\n",
    "\n",
    "train_acc = dt.score(X_adult_train, y_adult_train)\n",
    "test_acc = accuracy_score(y_adult_test, y_pred)\n",
    "\n",
    "results[\"Data1\"][\"DT_Entropy_pruned\"] = (train_acc, test_acc)\n",
    "\n",
    "print(\"Training Accuracy: \", train_acc)\n",
    "print(\"Testing Accuracy: \", test_acc)"
   ]
  },
  {
   "cell_type": "markdown",
   "id": "8c0f29a3",
   "metadata": {},
   "source": [
    "##### Without Pruning Gini"
   ]
  },
  {
   "cell_type": "code",
   "execution_count": 299,
   "id": "347becfd",
   "metadata": {},
   "outputs": [
    {
     "name": "stdout",
     "output_type": "stream",
     "text": [
      "Training Accuracy:  0.9999692884125181\n",
      "Testing Accuracy:  0.8076899453350531\n"
     ]
    }
   ],
   "source": [
    "dt = DecisionTreeClassifier(criterion=\"gini\")\n",
    "dt.fit(X_adult_train, y_adult_train)\n",
    "\n",
    "y_pred = dt.predict(X_adult_test)\n",
    "\n",
    "train_acc = dt.score(X_adult_train, y_adult_train)\n",
    "test_acc = accuracy_score(y_adult_test, y_pred)\n",
    "\n",
    "results[\"Data1\"][\"DT_Gini\"] = (train_acc, test_acc)\n",
    "\n",
    "print(\"Training Accuracy: \", train_acc)\n",
    "print(\"Testing Accuracy: \", test_acc)"
   ]
  },
  {
   "cell_type": "markdown",
   "id": "b9edaa3d",
   "metadata": {},
   "source": [
    "##### With Pruning Gini"
   ]
  },
  {
   "cell_type": "code",
   "execution_count": 300,
   "id": "aca0f26a",
   "metadata": {},
   "outputs": [
    {
     "name": "stdout",
     "output_type": "stream",
     "text": [
      "Training Accuracy:  0.8262338380270876\n",
      "Testing Accuracy:  0.8267919660954487\n"
     ]
    }
   ],
   "source": [
    "dt = DecisionTreeClassifier(criterion=\"gini\", ccp_alpha=0.015)\n",
    "dt.fit(X_adult_train, y_adult_train)\n",
    "\n",
    "y_pred = dt.predict(X_adult_test)\n",
    "\n",
    "train_acc = dt.score(X_adult_train, y_adult_train)\n",
    "test_acc = accuracy_score(y_adult_test, y_pred)\n",
    "\n",
    "results[\"Data1\"][\"DT_Gini_pruned\"] = (train_acc, test_acc)\n",
    "\n",
    "print(\"Training Accuracy: \", train_acc)\n",
    "print(\"Testing Accuracy: \", test_acc)"
   ]
  },
  {
   "cell_type": "markdown",
   "id": "7ff4796f",
   "metadata": {},
   "source": [
    "### Dataset 2 (Forest)"
   ]
  },
  {
   "cell_type": "markdown",
   "id": "4e59e6ac",
   "metadata": {},
   "source": [
    "##### Without Pruning Entropy"
   ]
  },
  {
   "cell_type": "code",
   "execution_count": 301,
   "id": "103931ef",
   "metadata": {},
   "outputs": [
    {
     "name": "stdout",
     "output_type": "stream",
     "text": [
      "Training Accuracy:  1.0\n",
      "Testing Accuracy:  0.76\n"
     ]
    }
   ],
   "source": [
    "dt = DecisionTreeClassifier(criterion=\"entropy\")\n",
    "dt.fit(X_forest_train, y_forest_train)\n",
    "\n",
    "y_pred = dt.predict(X_forest_test)\n",
    "\n",
    "train_acc = dt.score(X_forest_train, y_forest_train)\n",
    "test_acc = accuracy_score(y_forest_test, y_pred)\n",
    "\n",
    "results[\"Data2\"][\"DT_Entropy\"] = (train_acc, test_acc)\n",
    "\n",
    "print(\"Training Accuracy: \", train_acc)\n",
    "print(\"Testing Accuracy: \", test_acc)"
   ]
  },
  {
   "cell_type": "markdown",
   "id": "f58e2267",
   "metadata": {},
   "source": [
    "##### With Pruning Entropy"
   ]
  },
  {
   "cell_type": "code",
   "execution_count": 302,
   "id": "940806cc",
   "metadata": {},
   "outputs": [
    {
     "name": "stdout",
     "output_type": "stream",
     "text": [
      "Training Accuracy:  1.0\n",
      "Testing Accuracy:  0.76\n"
     ]
    }
   ],
   "source": [
    "dt = DecisionTreeClassifier(criterion=\"entropy\", ccp_alpha=0.015)\n",
    "dt.fit(X_forest_train, y_forest_train)\n",
    "\n",
    "y_pred_entropy = dt.predict(X_forest_test)\n",
    "\n",
    "train_acc = dt.score(X_forest_train, y_forest_train)\n",
    "test_acc = accuracy_score(y_forest_test, y_pred)\n",
    "\n",
    "results[\"Data2\"][\"DT_Entropy_pruned\"] = (train_acc, test_acc)\n",
    "\n",
    "print(\"Training Accuracy: \", train_acc)\n",
    "print(\"Testing Accuracy: \", test_acc)"
   ]
  },
  {
   "cell_type": "markdown",
   "id": "e70c8c04",
   "metadata": {},
   "source": [
    "##### Without Pruning Gini"
   ]
  },
  {
   "cell_type": "code",
   "execution_count": 303,
   "id": "995cff6c",
   "metadata": {},
   "outputs": [
    {
     "name": "stdout",
     "output_type": "stream",
     "text": [
      "Training Accuracy:  1.0\n",
      "Testing Accuracy:  0.7661538461538462\n"
     ]
    }
   ],
   "source": [
    "dt = DecisionTreeClassifier(criterion=\"gini\")\n",
    "dt.fit(X_forest_train, y_forest_train)\n",
    "\n",
    "y_pred = dt.predict(X_forest_test)\n",
    "\n",
    "train_acc = dt.score(X_forest_train, y_forest_train)\n",
    "test_acc = accuracy_score(y_forest_test, y_pred)\n",
    "\n",
    "results[\"Data2\"][\"DT_Gini\"] = (train_acc, test_acc)\n",
    "\n",
    "print(\"Training Accuracy: \", train_acc)\n",
    "print(\"Testing Accuracy: \", test_acc)"
   ]
  },
  {
   "cell_type": "markdown",
   "id": "fb24e440",
   "metadata": {},
   "source": [
    "##### With Pruning Gini"
   ]
  },
  {
   "cell_type": "code",
   "execution_count": 304,
   "id": "c365a1b4",
   "metadata": {},
   "outputs": [
    {
     "name": "stdout",
     "output_type": "stream",
     "text": [
      "Training Accuracy:  0.9848484848484849\n",
      "Testing Accuracy:  0.7938461538461539\n"
     ]
    }
   ],
   "source": [
    "dt = DecisionTreeClassifier(criterion=\"gini\", ccp_alpha=0.015)\n",
    "dt.fit(X_forest_train, y_forest_train)\n",
    "\n",
    "y_pred = dt.predict(X_forest_test)\n",
    "\n",
    "train_acc = dt.score(X_forest_train, y_forest_train)\n",
    "test_acc = accuracy_score(y_forest_test, y_pred)\n",
    "\n",
    "results[\"Data2\"][\"DT_Gini_pruned\"] = (train_acc, test_acc)\n",
    "\n",
    "print(\"Training Accuracy: \", train_acc)\n",
    "print(\"Testing Accuracy: \", test_acc)"
   ]
  },
  {
   "cell_type": "code",
   "execution_count": 305,
   "id": "4143eff0",
   "metadata": {},
   "outputs": [
    {
     "name": "stdout",
     "output_type": "stream",
     "text": [
      "Confusion Matrix:\n",
      " [[ 76   0  10  19]\n",
      " [  1  29   0   8]\n",
      " [ 13   1  31   1]\n",
      " [ 15  12   0 109]]\n",
      "Total Correct Classifications: 245\n",
      "Total Wrong Predictions: 80\n"
     ]
    }
   ],
   "source": [
    "cm = confusion_matrix(y_forest_test, y_pred_entropy)\n",
    "\n",
    "correct = cm.diagonal().sum()\n",
    "wrong = cm.sum() - correct\n",
    "\n",
    "\n",
    "print(\"Confusion Matrix:\\n\", cm)\n",
    "print(\"Total Correct Classifications:\", correct)\n",
    "print(\"Total Wrong Predictions:\", wrong)"
   ]
  },
  {
   "cell_type": "code",
   "execution_count": 306,
   "id": "d8808095",
   "metadata": {},
   "outputs": [
    {
     "data": {
      "text/plain": [
       "{'Data1': {'DT_Entropy': (0.9999692884125181, 0.8024691358024691),\n",
       "  'DT_Entropy_pruned': (0.8398083596941126, 0.839199066396413),\n",
       "  'DT_Gini': (0.9999692884125181, 0.8076899453350531),\n",
       "  'DT_Gini_pruned': (0.8262338380270876, 0.8267919660954487)},\n",
       " 'Data2': {'DT_Entropy': (1.0, 0.76),\n",
       "  'DT_Entropy_pruned': (1.0, 0.76),\n",
       "  'DT_Gini': (1.0, 0.7661538461538462),\n",
       "  'DT_Gini_pruned': (0.9848484848484849, 0.7938461538461539)}}"
      ]
     },
     "execution_count": 306,
     "metadata": {},
     "output_type": "execute_result"
    }
   ],
   "source": [
    "results"
   ]
  },
  {
   "cell_type": "code",
   "execution_count": 307,
   "id": "a6973bcf",
   "metadata": {},
   "outputs": [
    {
     "data": {
      "image/png": "[encoded data removed]",
      "text/plain": [
       "<Figure size 500x400 with 1 Axes>"
      ]
     },
     "metadata": {},
     "output_type": "display_data"
    },
    {
     "data": {
      "image/png": "[encoded data removed]",
      "text/plain": [
       "<Figure size 500x400 with 1 Axes>"
      ]
     },
     "metadata": {},
     "output_type": "display_data"
    },
    {
     "data": {
      "image/png": "[encoded data removed]",
      "text/plain": [
       "<Figure size 500x400 with 1 Axes>"
      ]
     },
     "metadata": {},
     "output_type": "display_data"
    },
    {
     "data": {
      "image/png": "[encoded data removed]",
      "text/plain": [
       "<Figure size 500x400 with 1 Axes>"
      ]
     },
     "metadata": {},
     "output_type": "display_data"
    },
    {
     "data": {
      "image/png": "[encoded data removed]",
      "text/plain": [
       "<Figure size 500x400 with 1 Axes>"
      ]
     },
     "metadata": {},
     "output_type": "display_data"
    },
    {
     "data": {
      "image/png": "[encoded data removed]",
      "text/plain": [
       "<Figure size 500x400 with 1 Axes>"
      ]
     },
     "metadata": {},
     "output_type": "display_data"
    },
    {
     "data": {
      "image/png": "[encoded data removed]",
      "text/plain": [
       "<Figure size 500x400 with 1 Axes>"
      ]
     },
     "metadata": {},
     "output_type": "display_data"
    },
    {
     "data": {
      "image/png": "[encoded data removed]",
      "text/plain": [
       "<Figure size 500x400 with 1 Axes>"
      ]
     },
     "metadata": {},
     "output_type": "display_data"
    }
   ],
   "source": [
    "datasets = [\"Data1\", \"Data2\"]\n",
    "methods = [\"DT_Entropy\", \"DT_Entropy_pruned\", \"DT_Gini\", \"DT_Gini_pruned\"]\n",
    "\n",
    "for data in datasets:\n",
    "    for method in methods:\n",
    "        train_acc, test_acc = results[data][method]\n",
    "\n",
    "        # Bar plot\n",
    "        plt.figure(figsize=(5,4))\n",
    "        plt.bar([\"Training\", \"Testing\"], [train_acc, test_acc], color=[\"skyblue\",\"orange\"])\n",
    "        plt.ylim(0,1)\n",
    "        plt.title(f\"{method} on {data}\")\n",
    "        plt.ylabel(\"Accuracy\")\n",
    "        plt.show()"
   ]
  },
  {
   "cell_type": "markdown",
   "id": "3f9ded69",
   "metadata": {},
   "source": [
    "# Q2"
   ]
  },
  {
   "cell_type": "code",
   "execution_count": 308,
   "id": "eca273b3",
   "metadata": {},
   "outputs": [],
   "source": [
    "df = pd.read_excel(\"../data/04/loan_approval_prediction.xlsx\")"
   ]
  },
  {
   "cell_type": "code",
   "execution_count": 310,
   "id": "894d5301",
   "metadata": {},
   "outputs": [
    {
     "data": {
      "text/html": [
       "<div>\n",
       "<style scoped>\n",
       "    .dataframe tbody tr th:only-of-type {\n",
       "        vertical-align: middle;\n",
       "    }\n",
       "\n",
       "    .dataframe tbody tr th {\n",
       "        vertical-align: top;\n",
       "    }\n",
       "\n",
       "    .dataframe thead th {\n",
       "        text-align: right;\n",
       "    }\n",
       "</style>\n",
       "<table border=\"1\" class=\"dataframe\">\n",
       "  <thead>\n",
       "    <tr style=\"text-align: right;\">\n",
       "      <th></th>\n",
       "      <th>ID</th>\n",
       "      <th>AGE</th>\n",
       "      <th>JOB_STATUS</th>\n",
       "      <th>OWNS_HOUSE</th>\n",
       "      <th>CREDIT_RATING</th>\n",
       "      <th>CLASS</th>\n",
       "    </tr>\n",
       "  </thead>\n",
       "  <tbody>\n",
       "    <tr>\n",
       "      <th>0</th>\n",
       "      <td>1</td>\n",
       "      <td>Young</td>\n",
       "      <td>False</td>\n",
       "      <td>False</td>\n",
       "      <td>Fair</td>\n",
       "      <td>No</td>\n",
       "    </tr>\n",
       "    <tr>\n",
       "      <th>1</th>\n",
       "      <td>2</td>\n",
       "      <td>Young</td>\n",
       "      <td>False</td>\n",
       "      <td>False</td>\n",
       "      <td>Good</td>\n",
       "      <td>No</td>\n",
       "    </tr>\n",
       "    <tr>\n",
       "      <th>2</th>\n",
       "      <td>3</td>\n",
       "      <td>Young</td>\n",
       "      <td>True</td>\n",
       "      <td>False</td>\n",
       "      <td>Good</td>\n",
       "      <td>Yes</td>\n",
       "    </tr>\n",
       "    <tr>\n",
       "      <th>3</th>\n",
       "      <td>4</td>\n",
       "      <td>Young</td>\n",
       "      <td>True</td>\n",
       "      <td>True</td>\n",
       "      <td>Fair</td>\n",
       "      <td>Yes</td>\n",
       "    </tr>\n",
       "    <tr>\n",
       "      <th>4</th>\n",
       "      <td>5</td>\n",
       "      <td>Young</td>\n",
       "      <td>False</td>\n",
       "      <td>False</td>\n",
       "      <td>Fair</td>\n",
       "      <td>No</td>\n",
       "    </tr>\n",
       "  </tbody>\n",
       "</table>\n",
       "</div>"
      ],
      "text/plain": [
       "   ID    AGE  JOB_STATUS  OWNS_HOUSE CREDIT_RATING CLASS\n",
       "0   1  Young       False       False          Fair    No\n",
       "1   2  Young       False       False          Good    No\n",
       "2   3  Young        True       False          Good   Yes\n",
       "3   4  Young        True        True          Fair   Yes\n",
       "4   5  Young       False       False          Fair    No"
      ]
     },
     "execution_count": 310,
     "metadata": {},
     "output_type": "execute_result"
    }
   ],
   "source": [
    "df.head()"
   ]
  },
  {
   "cell_type": "code",
   "execution_count": 321,
   "id": "f6c87767",
   "metadata": {},
   "outputs": [],
   "source": [
    "def entropy(target_col):\n",
    "    elements, counts = np.unique(target_col, return_counts=True)\n",
    "    entropy = 0\n",
    "    for i in range(len(elements)):\n",
    "        prob = counts[i] / np.sum(counts)\n",
    "        entropy -= prob * log2(prob)\n",
    "    return entropy"
   ]
  },
  {
   "cell_type": "code",
   "execution_count": 322,
   "id": "2d5b845d",
   "metadata": {},
   "outputs": [],
   "source": [
    "# total - (prob of val1 * entropy(val1) + ....)\n",
    "\n",
    "def info_gain(data, split_attribute, target_name=\"CLASS\"):\n",
    "    total_entropy = entropy(data[target_name])\n",
    "\n",
    "    vals, counts = np.unique(data[split_attribute], return_counts=True)\n",
    "    weighted_entropy = 0\n",
    "    for i in range(len(vals)):\n",
    "        subset = data[data[split_attribute] == vals[i]]\n",
    "        prob = counts[i] / np.sum(counts)\n",
    "        weighted_entropy += prob * entropy(subset[target_name])\n",
    "    \n",
    "    gain = total_entropy - weighted_entropy\n",
    "    return gain"
   ]
  },
  {
   "cell_type": "code",
   "execution_count": 325,
   "id": "7f522e61",
   "metadata": {},
   "outputs": [
    {
     "name": "stdout",
     "output_type": "stream",
     "text": [
      "Entropy of CLASS:  0.9709505944546686\n",
      "\n",
      "Information Gain for ID: 0.9710\n",
      "Information Gain for AGE: 0.0830\n",
      "Information Gain for JOB_STATUS: 0.3237\n",
      "Information Gain for OWNS_HOUSE: 0.4200\n",
      "Information Gain for CREDIT_RATING: 0.3630\n",
      "\n",
      "Root Node:  ID\n"
     ]
    }
   ],
   "source": [
    "print(\"Entropy of CLASS: \", entropy(df[\"CLASS\"]))\n",
    "print()\n",
    "\n",
    "cols = df.drop(\"CLASS\", axis=1).columns\n",
    "\n",
    "gains = {}\n",
    "for col in cols:\n",
    "    gains[col] = info_gain(df, col, target_name=\"CLASS\")\n",
    "    print(f\"Information Gain for {col}: {gains[col]:.4f}\")\n",
    "\n",
    "root = max(gains, key=gains.get)\n",
    "print(\"\\nRoot Node: \", root)"
   ]
  },
  {
   "cell_type": "markdown",
   "id": "ee4a5be2",
   "metadata": {},
   "source": [
    "# Q3"
   ]
  },
  {
   "cell_type": "code",
   "execution_count": 326,
   "id": "6a4deeb0",
   "metadata": {},
   "outputs": [],
   "source": [
    "df = pd.read_csv(\"../data/04/cancer_patient_data_sets.csv\")"
   ]
  },
  {
   "cell_type": "code",
   "execution_count": 327,
   "id": "c272aa3c",
   "metadata": {},
   "outputs": [
    {
     "data": {
      "text/html": [
       "<div>\n",
       "<style scoped>\n",
       "    .dataframe tbody tr th:only-of-type {\n",
       "        vertical-align: middle;\n",
       "    }\n",
       "\n",
       "    .dataframe tbody tr th {\n",
       "        vertical-align: top;\n",
       "    }\n",
       "\n",
       "    .dataframe thead th {\n",
       "        text-align: right;\n",
       "    }\n",
       "</style>\n",
       "<table border=\"1\" class=\"dataframe\">\n",
       "  <thead>\n",
       "    <tr style=\"text-align: right;\">\n",
       "      <th></th>\n",
       "      <th>index</th>\n",
       "      <th>Patient Id</th>\n",
       "      <th>Age</th>\n",
       "      <th>Gender</th>\n",
       "      <th>Air Pollution</th>\n",
       "      <th>Alcohol use</th>\n",
       "      <th>Dust Allergy</th>\n",
       "      <th>OccuPational Hazards</th>\n",
       "      <th>Genetic Risk</th>\n",
       "      <th>chronic Lung Disease</th>\n",
       "      <th>...</th>\n",
       "      <th>Fatigue</th>\n",
       "      <th>Weight Loss</th>\n",
       "      <th>Shortness of Breath</th>\n",
       "      <th>Wheezing</th>\n",
       "      <th>Swallowing Difficulty</th>\n",
       "      <th>Clubbing of Finger Nails</th>\n",
       "      <th>Frequent Cold</th>\n",
       "      <th>Dry Cough</th>\n",
       "      <th>Snoring</th>\n",
       "      <th>Level</th>\n",
       "    </tr>\n",
       "  </thead>\n",
       "  <tbody>\n",
       "    <tr>\n",
       "      <th>0</th>\n",
       "      <td>0</td>\n",
       "      <td>P1</td>\n",
       "      <td>33</td>\n",
       "      <td>1</td>\n",
       "      <td>2</td>\n",
       "      <td>4</td>\n",
       "      <td>5</td>\n",
       "      <td>4</td>\n",
       "      <td>3</td>\n",
       "      <td>2</td>\n",
       "      <td>...</td>\n",
       "      <td>3</td>\n",
       "      <td>4</td>\n",
       "      <td>2</td>\n",
       "      <td>2</td>\n",
       "      <td>3</td>\n",
       "      <td>1</td>\n",
       "      <td>2</td>\n",
       "      <td>3</td>\n",
       "      <td>4</td>\n",
       "      <td>Low</td>\n",
       "    </tr>\n",
       "    <tr>\n",
       "      <th>1</th>\n",
       "      <td>1</td>\n",
       "      <td>P10</td>\n",
       "      <td>17</td>\n",
       "      <td>1</td>\n",
       "      <td>3</td>\n",
       "      <td>1</td>\n",
       "      <td>5</td>\n",
       "      <td>3</td>\n",
       "      <td>4</td>\n",
       "      <td>2</td>\n",
       "      <td>...</td>\n",
       "      <td>1</td>\n",
       "      <td>3</td>\n",
       "      <td>7</td>\n",
       "      <td>8</td>\n",
       "      <td>6</td>\n",
       "      <td>2</td>\n",
       "      <td>1</td>\n",
       "      <td>7</td>\n",
       "      <td>2</td>\n",
       "      <td>Medium</td>\n",
       "    </tr>\n",
       "    <tr>\n",
       "      <th>2</th>\n",
       "      <td>2</td>\n",
       "      <td>P100</td>\n",
       "      <td>35</td>\n",
       "      <td>1</td>\n",
       "      <td>4</td>\n",
       "      <td>5</td>\n",
       "      <td>6</td>\n",
       "      <td>5</td>\n",
       "      <td>5</td>\n",
       "      <td>4</td>\n",
       "      <td>...</td>\n",
       "      <td>8</td>\n",
       "      <td>7</td>\n",
       "      <td>9</td>\n",
       "      <td>2</td>\n",
       "      <td>1</td>\n",
       "      <td>4</td>\n",
       "      <td>6</td>\n",
       "      <td>7</td>\n",
       "      <td>2</td>\n",
       "      <td>High</td>\n",
       "    </tr>\n",
       "    <tr>\n",
       "      <th>3</th>\n",
       "      <td>3</td>\n",
       "      <td>P1000</td>\n",
       "      <td>37</td>\n",
       "      <td>1</td>\n",
       "      <td>7</td>\n",
       "      <td>7</td>\n",
       "      <td>7</td>\n",
       "      <td>7</td>\n",
       "      <td>6</td>\n",
       "      <td>7</td>\n",
       "      <td>...</td>\n",
       "      <td>4</td>\n",
       "      <td>2</td>\n",
       "      <td>3</td>\n",
       "      <td>1</td>\n",
       "      <td>4</td>\n",
       "      <td>5</td>\n",
       "      <td>6</td>\n",
       "      <td>7</td>\n",
       "      <td>5</td>\n",
       "      <td>High</td>\n",
       "    </tr>\n",
       "    <tr>\n",
       "      <th>4</th>\n",
       "      <td>4</td>\n",
       "      <td>P101</td>\n",
       "      <td>46</td>\n",
       "      <td>1</td>\n",
       "      <td>6</td>\n",
       "      <td>8</td>\n",
       "      <td>7</td>\n",
       "      <td>7</td>\n",
       "      <td>7</td>\n",
       "      <td>6</td>\n",
       "      <td>...</td>\n",
       "      <td>3</td>\n",
       "      <td>2</td>\n",
       "      <td>4</td>\n",
       "      <td>1</td>\n",
       "      <td>4</td>\n",
       "      <td>2</td>\n",
       "      <td>4</td>\n",
       "      <td>2</td>\n",
       "      <td>3</td>\n",
       "      <td>High</td>\n",
       "    </tr>\n",
       "  </tbody>\n",
       "</table>\n",
       "<p>5 rows × 26 columns</p>\n",
       "</div>"
      ],
      "text/plain": [
       "   index Patient Id  Age  Gender  Air Pollution  Alcohol use  Dust Allergy  \\\n",
       "0      0         P1   33       1              2            4             5   \n",
       "1      1        P10   17       1              3            1             5   \n",
       "2      2       P100   35       1              4            5             6   \n",
       "3      3      P1000   37       1              7            7             7   \n",
       "4      4       P101   46       1              6            8             7   \n",
       "\n",
       "   OccuPational Hazards  Genetic Risk  chronic Lung Disease  ...  Fatigue  \\\n",
       "0                     4             3                     2  ...        3   \n",
       "1                     3             4                     2  ...        1   \n",
       "2                     5             5                     4  ...        8   \n",
       "3                     7             6                     7  ...        4   \n",
       "4                     7             7                     6  ...        3   \n",
       "\n",
       "   Weight Loss  Shortness of Breath  Wheezing  Swallowing Difficulty  \\\n",
       "0            4                    2         2                      3   \n",
       "1            3                    7         8                      6   \n",
       "2            7                    9         2                      1   \n",
       "3            2                    3         1                      4   \n",
       "4            2                    4         1                      4   \n",
       "\n",
       "   Clubbing of Finger Nails  Frequent Cold  Dry Cough  Snoring   Level  \n",
       "0                         1              2          3        4     Low  \n",
       "1                         2              1          7        2  Medium  \n",
       "2                         4              6          7        2    High  \n",
       "3                         5              6          7        5    High  \n",
       "4                         2              4          2        3    High  \n",
       "\n",
       "[5 rows x 26 columns]"
      ]
     },
     "execution_count": 327,
     "metadata": {},
     "output_type": "execute_result"
    }
   ],
   "source": [
    "df.head()"
   ]
  },
  {
   "cell_type": "code",
   "execution_count": 329,
   "id": "22692363",
   "metadata": {},
   "outputs": [
    {
     "name": "stdout",
     "output_type": "stream",
     "text": [
      "<class 'pandas.core.frame.DataFrame'>\n",
      "RangeIndex: 1000 entries, 0 to 999\n",
      "Data columns (total 26 columns):\n",
      " #   Column                    Non-Null Count  Dtype \n",
      "---  ------                    --------------  ----- \n",
      " 0   index                     1000 non-null   int64 \n",
      " 1   Patient Id                1000 non-null   object\n",
      " 2   Age                       1000 non-null   int64 \n",
      " 3   Gender                    1000 non-null   int64 \n",
      " 4   Air Pollution             1000 non-null   int64 \n",
      " 5   Alcohol use               1000 non-null   int64 \n",
      " 6   Dust Allergy              1000 non-null   int64 \n",
      " 7   OccuPational Hazards      1000 non-null   int64 \n",
      " 8   Genetic Risk              1000 non-null   int64 \n",
      " 9   chronic Lung Disease      1000 non-null   int64 \n",
      " 10  Balanced Diet             1000 non-null   int64 \n",
      " 11  Obesity                   1000 non-null   int64 \n",
      " 12  Smoking                   1000 non-null   int64 \n",
      " 13  Passive Smoker            1000 non-null   int64 \n",
      " 14  Chest Pain                1000 non-null   int64 \n",
      " 15  Coughing of Blood         1000 non-null   int64 \n",
      " 16  Fatigue                   1000 non-null   int64 \n",
      " 17  Weight Loss               1000 non-null   int64 \n",
      " 18  Shortness of Breath       1000 non-null   int64 \n",
      " 19  Wheezing                  1000 non-null   int64 \n",
      " 20  Swallowing Difficulty     1000 non-null   int64 \n",
      " 21  Clubbing of Finger Nails  1000 non-null   int64 \n",
      " 22  Frequent Cold             1000 non-null   int64 \n",
      " 23  Dry Cough                 1000 non-null   int64 \n",
      " 24  Snoring                   1000 non-null   int64 \n",
      " 25  Level                     1000 non-null   object\n",
      "dtypes: int64(24), object(2)\n",
      "memory usage: 203.3+ KB\n"
     ]
    }
   ],
   "source": [
    "df.info()"
   ]
  },
  {
   "cell_type": "code",
   "execution_count": 330,
   "id": "994af1bc",
   "metadata": {},
   "outputs": [
    {
     "data": {
      "text/plain": [
       "Level\n",
       "High      365\n",
       "Medium    332\n",
       "Low       303\n",
       "Name: count, dtype: int64"
      ]
     },
     "execution_count": 330,
     "metadata": {},
     "output_type": "execute_result"
    }
   ],
   "source": [
    "df[\"Level\"].value_counts()"
   ]
  },
  {
   "cell_type": "markdown",
   "id": "8139fd30",
   "metadata": {},
   "source": [
    "##### Target column is balanced"
   ]
  },
  {
   "cell_type": "code",
   "execution_count": 331,
   "id": "b2948af8",
   "metadata": {},
   "outputs": [
    {
     "data": {
      "text/plain": [
       "Index(['Patient Id', 'Level'], dtype='object')"
      ]
     },
     "execution_count": 331,
     "metadata": {},
     "output_type": "execute_result"
    }
   ],
   "source": [
    "cat_cols = df.select_dtypes(include=\"object\").columns\n",
    "\n",
    "cat_cols"
   ]
  },
  {
   "cell_type": "markdown",
   "id": "1e0a3eb2",
   "metadata": {},
   "source": [
    "##### Ordinal Encoder for Level column because it has a clear order"
   ]
  },
  {
   "cell_type": "code",
   "execution_count": 335,
   "id": "76e15c22",
   "metadata": {},
   "outputs": [],
   "source": [
    "ord_enc = OrdinalEncoder()\n",
    "df[\"Level\"] = ord_enc.fit_transform(df[[\"Level\"]])"
   ]
  },
  {
   "cell_type": "code",
   "execution_count": 337,
   "id": "34a78aa2",
   "metadata": {},
   "outputs": [
    {
     "data": {
      "text/plain": [
       "np.int64(0)"
      ]
     },
     "execution_count": 337,
     "metadata": {},
     "output_type": "execute_result"
    }
   ],
   "source": [
    "df.duplicated().sum()"
   ]
  },
  {
   "cell_type": "code",
   "execution_count": 338,
   "id": "f06c0564",
   "metadata": {},
   "outputs": [],
   "source": [
    "df.drop(\"Patient Id\", axis=1, inplace=True)"
   ]
  },
  {
   "cell_type": "code",
   "execution_count": null,
   "id": "d39ecf66",
   "metadata": {},
   "outputs": [
    {
     "name": "stdout",
     "output_type": "stream",
     "text": [
      "Selected features (based on correlation with target): ['Air Pollution', 'Alcohol use', 'Dust Allergy', 'OccuPational Hazards', 'Genetic Risk', 'chronic Lung Disease', 'Balanced Diet', 'Obesity', 'Smoking', 'Passive Smoker', 'Chest Pain', 'Coughing of Blood', 'Fatigue', 'Dry Cough'] \n",
      "\n",
      "Features dropped due to high multicollinearity: ['OccuPational Hazards', 'Genetic Risk', 'chronic Lung Disease'] \n",
      "\n",
      "Final chosen features: ['Air Pollution', 'Alcohol use', 'Dust Allergy', 'Balanced Diet', 'Obesity', 'Smoking', 'Passive Smoker', 'Chest Pain', 'Coughing of Blood', 'Fatigue', 'Dry Cough']\n"
     ]
    }
   ],
   "source": [
    "correlations = df.corr(method='pearson')['Level'].drop('Level')\n",
    "# print(\"Correlation of features with Level:\\n\", correlations, \"\\n\")\n",
    "\n",
    "selected_features = correlations[abs(correlations) > 0.2].index.tolist()\n",
    "print(\"Selected features (based on correlation with target):\", selected_features, \"\\n\")\n",
    "\n",
    "corr_matrix = df[selected_features].corr(method='pearson').abs()\n",
    "\n",
    "# Choosing upper triangle matrix, cuz the corr matrix is symmetric\n",
    "upper = corr_matrix.where(np.triu(np.ones(corr_matrix.shape), k=1).astype(bool))\n",
    "\n",
    "to_drop = [col for col in upper.columns if any(upper[col] > 0.85)]\n",
    "print(\"Features dropped due to high multicollinearity:\", to_drop, \"\\n\")\n",
    "\n",
    "final_features = [f for f in selected_features if f not in to_drop]\n",
    "print(\"Final chosen features:\", final_features)"
   ]
  },
  {
   "cell_type": "markdown",
   "id": "f211ce60",
   "metadata": {},
   "source": [
    "##### We are doing a decision tree, trees dont require scaling of data"
   ]
  },
  {
   "cell_type": "code",
   "execution_count": 344,
   "id": "708fa8a8",
   "metadata": {},
   "outputs": [],
   "source": [
    "X = df.drop(\"Level\", axis=1)\n",
    "y = df[\"Level\"]\n",
    "\n",
    "X_train_full, X_test, y_train_full, y_test = train_test_split(X, y, test_size=0.2, random_state=0)\n",
    "\n",
    "X_train, X_val, y_train, y_val = train_test_split(X_train_full, y_train_full, test_size=0.3, random_state=0)"
   ]
  },
  {
   "cell_type": "markdown",
   "id": "f2784aad",
   "metadata": {},
   "source": [
    "##### We use validation set for tuning of the model. We might do feature selection and then see whether the performance improves"
   ]
  },
  {
   "cell_type": "code",
   "execution_count": 345,
   "id": "0345d28f",
   "metadata": {},
   "outputs": [
    {
     "name": "stdout",
     "output_type": "stream",
     "text": [
      "Validation Accuracy: 1.0\n",
      "Training Accuracy:  1.0\n",
      "Test Accuracy: 1.0\n"
     ]
    }
   ],
   "source": [
    "dt = DecisionTreeClassifier()\n",
    "dt.fit(X_train, y_train)\n",
    "\n",
    "y_val_pred = dt.predict(X_val)\n",
    "val_acc = accuracy_score(y_val, y_val_pred)\n",
    "print(\"Validation Accuracy:\", val_acc)\n",
    "\n",
    "y_test_pred = dt.predict(X_test)\n",
    "test_acc = accuracy_score(y_test, y_test_pred)\n",
    "print(\"Training Accuracy: \", dt.score(X_train, y_train))\n",
    "print(\"Test Accuracy:\", test_acc)"
   ]
  },
  {
   "cell_type": "markdown",
   "id": "afe33e31",
   "metadata": {},
   "source": [
    "# Q4"
   ]
  },
  {
   "cell_type": "code",
   "execution_count": 4,
   "id": "631b72a6",
   "metadata": {},
   "outputs": [],
   "source": [
    "df = pd.read_excel(\"../data/04/student_exp.xlsx\")"
   ]
  },
  {
   "cell_type": "code",
   "execution_count": 5,
   "id": "ea0ea3b2",
   "metadata": {},
   "outputs": [
    {
     "data": {
      "text/html": [
       "<div>\n",
       "<style scoped>\n",
       "    .dataframe tbody tr th:only-of-type {\n",
       "        vertical-align: middle;\n",
       "    }\n",
       "\n",
       "    .dataframe tbody tr th {\n",
       "        vertical-align: top;\n",
       "    }\n",
       "\n",
       "    .dataframe thead th {\n",
       "        text-align: right;\n",
       "    }\n",
       "</style>\n",
       "<table border=\"1\" class=\"dataframe\">\n",
       "  <thead>\n",
       "    <tr style=\"text-align: right;\">\n",
       "      <th></th>\n",
       "      <th>Student</th>\n",
       "      <th>Prior Experience</th>\n",
       "      <th>Course</th>\n",
       "      <th>Time</th>\n",
       "      <th>Liked</th>\n",
       "    </tr>\n",
       "  </thead>\n",
       "  <tbody>\n",
       "    <tr>\n",
       "      <th>0</th>\n",
       "      <td>1</td>\n",
       "      <td>Yes</td>\n",
       "      <td>Programming</td>\n",
       "      <td>Day</td>\n",
       "      <td>Yes</td>\n",
       "    </tr>\n",
       "    <tr>\n",
       "      <th>1</th>\n",
       "      <td>2</td>\n",
       "      <td>No</td>\n",
       "      <td>Programming</td>\n",
       "      <td>Day</td>\n",
       "      <td>No</td>\n",
       "    </tr>\n",
       "    <tr>\n",
       "      <th>2</th>\n",
       "      <td>3</td>\n",
       "      <td>Yes</td>\n",
       "      <td>History</td>\n",
       "      <td>Night</td>\n",
       "      <td>No</td>\n",
       "    </tr>\n",
       "    <tr>\n",
       "      <th>3</th>\n",
       "      <td>4</td>\n",
       "      <td>No</td>\n",
       "      <td>Programming</td>\n",
       "      <td>Night</td>\n",
       "      <td>Yes</td>\n",
       "    </tr>\n",
       "    <tr>\n",
       "      <th>4</th>\n",
       "      <td>5</td>\n",
       "      <td>Yes</td>\n",
       "      <td>English</td>\n",
       "      <td>Day</td>\n",
       "      <td>Yes</td>\n",
       "    </tr>\n",
       "  </tbody>\n",
       "</table>\n",
       "</div>"
      ],
      "text/plain": [
       "   Student Prior Experience       Course   Time Liked\n",
       "0        1              Yes  Programming    Day   Yes\n",
       "1        2               No  Programming    Day    No\n",
       "2        3              Yes      History  Night    No\n",
       "3        4               No  Programming  Night   Yes\n",
       "4        5              Yes      English    Day   Yes"
      ]
     },
     "execution_count": 5,
     "metadata": {},
     "output_type": "execute_result"
    }
   ],
   "source": [
    "df.head()"
   ]
  },
  {
   "cell_type": "code",
   "execution_count": 6,
   "id": "23a769f4",
   "metadata": {},
   "outputs": [],
   "source": [
    "def gini_impurity(target_col):\n",
    "    elements, counts = np.unique(target_col, return_counts=True)\n",
    "    gini = 1\n",
    "    for i in range(len(elements)):\n",
    "        prob = counts[i] / np.sum(counts)\n",
    "        gini -= prob ** 2\n",
    "    return gini"
   ]
  },
  {
   "cell_type": "code",
   "execution_count": 7,
   "id": "4b8e21b9",
   "metadata": {},
   "outputs": [],
   "source": [
    "def gini_index(data, split_attribute, target_name=\"Liked\"):\n",
    "    vals, counts = np.unique(data[split_attribute], return_counts=True)\n",
    "    weighted_gini = 0\n",
    "    for i in range(len(vals)):\n",
    "        subset = data[data[split_attribute] == vals[i]]\n",
    "        prob = counts[i] / np.sum(counts)\n",
    "        weighted_gini += prob * gini_impurity(subset[target_name])\n",
    "    return weighted_gini"
   ]
  },
  {
   "cell_type": "code",
   "execution_count": 9,
   "id": "4adef9c3",
   "metadata": {},
   "outputs": [
    {
     "name": "stdout",
     "output_type": "stream",
     "text": [
      "Gini Impurity of target (Liked): 0.5\n",
      "\n",
      "Gini Index for Prior Experience: 0.4762\n",
      "Gini Index for Course: 0.3429\n",
      "Gini Index for Time: 0.4800\n",
      "\n",
      "Root Node:  Course\n"
     ]
    }
   ],
   "source": [
    "print(\"Gini Impurity of target (Liked):\", gini_impurity(df[\"Liked\"]))\n",
    "print()\n",
    "\n",
    "cols = df.drop(columns=[\"Liked\", \"Student\"]).columns\n",
    "\n",
    "ginis = {}\n",
    "for col in cols:\n",
    "    ginis[col] = gini_index(df, col, target_name=\"Liked\")\n",
    "    print(f\"Gini Index for {col}: {ginis[col]:.4f}\")\n",
    "\n",
    "root = min(ginis, key=ginis.get)\n",
    "print(\"\\nRoot Node: \", root)"
   ]
  }
 ],
 "metadata": {
  "kernelspec": {
   "display_name": "Python 3",
   "language": "python",
   "name": "python3"
  },
  "language_info": {
   "codemirror_mode": {
    "name": "ipython",
    "version": 3
   },
   "file_extension": ".py",
   "mimetype": "text/x-python",
   "name": "python",
   "nbconvert_exporter": "python",
   "pygments_lexer": "ipython3",
   "version": "3.12.6"
  }
 },
 "nbformat": 4,
 "nbformat_minor": 5
}
